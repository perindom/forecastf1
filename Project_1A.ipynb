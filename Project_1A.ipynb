{
 "cells": [
  {
   "cell_type": "markdown",
   "id": "395de541-51d9-46f2-b6c7-92678f9fec67",
   "metadata": {},
   "source": [
    "# Project 1A"
   ]
  },
  {
   "cell_type": "markdown",
   "id": "a283f52f-62fc-4f9e-b9ba-784bad1bfea5",
   "metadata": {},
   "source": [
    "## Imports and Example Code"
   ]
  },
  {
   "cell_type": "code",
   "execution_count": 249,
   "id": "1b480040-8ce5-46c7-bf89-adeeb8596352",
   "metadata": {},
   "outputs": [],
   "source": [
    "import gym\n",
    "import numpy as np\n",
    "import matplotlib.pyplot as plt"
   ]
  },
  {
   "cell_type": "code",
   "execution_count": 16,
   "id": "c5947148-cef0-4611-8581-7c51f5d23be3",
   "metadata": {},
   "outputs": [
    {
     "name": "stdout",
     "output_type": "stream",
     "text": [
      "Collecting pygame\n",
      "  Downloading pygame-2.6.1-cp38-cp38-manylinux_2_17_x86_64.manylinux2014_x86_64.whl (14.0 MB)\n",
      "\u001b[2K     \u001b[90m━━━━━━━━━━━━━━━━━━━━━━━━━━━━━━━━━━━━━━━━\u001b[0m \u001b[32m14.0/14.0 MB\u001b[0m \u001b[31m1.2 MB/s\u001b[0m eta \u001b[36m0:00:00\u001b[0m00:01\u001b[0m00:01\u001b[0m\n",
      "Installing collected packages: pygame\n",
      "Successfully installed pygame-2.6.1\n",
      "\u001b[33mWARNING: Running pip as the 'root' user can result in broken permissions and conflicting behaviour with the system package manager. It is recommended to use a virtual environment instead: https://pip.pypa.io/warnings/venv\u001b[0m\u001b[33m\n",
      "\u001b[0m\n",
      "\u001b[1m[\u001b[0m\u001b[34;49mnotice\u001b[0m\u001b[1;39;49m]\u001b[0m\u001b[39;49m A new release of pip is available: \u001b[0m\u001b[31;49m23.0.1\u001b[0m\u001b[39;49m -> \u001b[0m\u001b[32;49m25.0.1\u001b[0m\n",
      "\u001b[1m[\u001b[0m\u001b[34;49mnotice\u001b[0m\u001b[1;39;49m]\u001b[0m\u001b[39;49m To update, run: \u001b[0m\u001b[32;49mpip install --upgrade pip\u001b[0m\n"
     ]
    }
   ],
   "source": [
    "!pip3 install pygame"
   ]
  },
  {
   "cell_type": "code",
   "execution_count": 345,
   "id": "fe6e7eaf-ebf0-4763-a7b6-d5d33f5860dd",
   "metadata": {},
   "outputs": [],
   "source": [
    "bordered_map = [\n",
    "    \"HHHHHH\",\n",
    "    \"HSFFFH\",\n",
    "    \"HFHFHH\",\n",
    "    \"HFFFHH\",\n",
    "    \"HHFFGH\",\n",
    "    \"HHHHHH\"\n",
    "]\n",
    "env = gym.make('FrozenLake-v1', desc=bordered_map, map_name=\"6x6\", render_mode='ansi', is_slippery=True)"
   ]
  },
  {
   "cell_type": "code",
   "execution_count": 346,
   "id": "8c03668d-52f6-48f8-871b-cde14aba0b13",
   "metadata": {},
   "outputs": [
    {
     "name": "stdout",
     "output_type": "stream",
     "text": [
      "36\n"
     ]
    }
   ],
   "source": [
    "print(env.observation_space.n)"
   ]
  },
  {
   "cell_type": "code",
   "execution_count": 347,
   "id": "2e02839c-7433-4bc7-9833-c6a98994f1e9",
   "metadata": {},
   "outputs": [
    {
     "name": "stdout",
     "output_type": "stream",
     "text": [
      "4\n"
     ]
    }
   ],
   "source": [
    "print(env.action_space.n)"
   ]
  },
  {
   "cell_type": "markdown",
   "id": "27cd20fb-5dd5-434d-a882-d3f1d810c2b0",
   "metadata": {},
   "source": [
    "## Defining Value Iteration and Policy Iteration Functions"
   ]
  },
  {
   "cell_type": "code",
   "execution_count": 348,
   "id": "f3fe1a9f-be3f-4275-9365-6f17416125e1",
   "metadata": {},
   "outputs": [],
   "source": [
    "def value_iteration(env, gamma = 1.0):\n",
    "    \"\"\"\n",
    "    Inputs:\n",
    "    - env: the frozen lake environment.\n",
    "    - gamma: discount factor\n",
    "    Returns:\n",
    "    - value_table: state value function\n",
    "    - Q_value: state-action value function (Q function)\n",
    "    \"\"\"\n",
    "    num_iterations = 1000\n",
    "    epsilon = 1e-10\n",
    "    value_table = np.zeros(env.observation_space.n)\n",
    "    Q_values = np.zeros(env.action_space.n)\n",
    "    for i in range(num_iterations):\n",
    "        updated_value_table = np.copy(value_table)\n",
    "\n",
    "        for s in range(env.observation_space.n):\n",
    "            Q_values = [sum([prob*(r + gamma * updated_value_table[s_])\n",
    "                             for prob, s_, r, _ in env.P[s][a]])\n",
    "                                for a in range(env.action_space.n)]\n",
    "            \n",
    "            value_table[s] = max(Q_values)\n",
    "        if (np.sum(np.fabs(updated_value_table - value_table)) <= epsilon):\n",
    "            break\n",
    "    return value_table, Q_values"
   ]
  },
  {
   "cell_type": "code",
   "execution_count": 349,
   "id": "0e84c0cb-ce05-432c-9675-e4ec47721d19",
   "metadata": {},
   "outputs": [],
   "source": [
    "def extract_policy(value_table, gamma = 1.0):\n",
    "    \"\"\"\n",
    "    Inputs:\n",
    "    - value_table: state value function\n",
    "    - gamma: discount factor\n",
    "    Returns:\n",
    "    - policy: the optimal policy\n",
    "    \"\"\"\n",
    "    policy = np.zeros(env.observation_space.n)\n",
    "    #policy = np.random.randint(0, 4, env.observation_space.n)\n",
    "\n",
    "    for s in range(env.observation_space.n):\n",
    "        Q_values = [sum([prob*(r + gamma * value_table[s_prime])\n",
    "                        for prob, s_prime, r, _ in env.P[s][a]])\n",
    "                            for a in range(env.action_space.n)]\n",
    "        policy[s] = np.argmax(np.array(Q_values))\n",
    "    return policy"
   ]
  },
  {
   "cell_type": "markdown",
   "id": "d6e439de-d81e-47cc-911f-a0d485d6cb63",
   "metadata": {},
   "source": [
    "## Testing functions and generating an Optimal Policy"
   ]
  },
  {
   "cell_type": "code",
   "execution_count": 351,
   "id": "be3b3c0f-5b74-47d5-856e-7ebf0fad2619",
   "metadata": {},
   "outputs": [
    {
     "name": "stdout",
     "output_type": "stream",
     "text": [
      "[[0 0 0 0 0 0]\n",
      " [0 1 1 1 0 0]\n",
      " [0 0 0 0 0 0]\n",
      " [0 2 1 0 0 0]\n",
      " [0 0 2 3 0 0]\n",
      " [0 0 0 0 0 0]]\n"
     ]
    }
   ],
   "source": [
    "optimal_value_function, q_function = value_iteration(env=env, gamma=0.4)\n",
    "optimal_policy = extract_policy(optimal_value_function, gamma=0.4)\n",
    "print(np.reshape(optimal_policy, (6,6)))"
   ]
  },
  {
   "cell_type": "code",
   "execution_count": 353,
   "id": "ed0ef669-6c49-49ee-9efc-73cab59a0bdb",
   "metadata": {},
   "outputs": [
    {
     "name": "stdout",
     "output_type": "stream",
     "text": [
      "[[0 0 0 0 0 0]\n",
      " [0 1 1 1 0 0]\n",
      " [0 0 0 0 0 0]\n",
      " [0 2 1 0 0 0]\n",
      " [0 0 2 3 0 0]\n",
      " [0 0 0 0 0 0]]\n"
     ]
    }
   ],
   "source": [
    "optimal_value_function, q_function = value_iteration(env=env, gamma=0.9)\n",
    "optimal_policy = extract_policy(optimal_value_function, gamma=0.9)\n",
    "print(np.reshape(optimal_policy, (6,6)))"
   ]
  },
  {
   "cell_type": "code",
   "execution_count": 354,
   "id": "fc7d85c4-c584-41c4-8a02-44d8afa6fb74",
   "metadata": {},
   "outputs": [],
   "source": [
    "printing = False\n",
    "total_rewards = 0\n",
    "for episode in range(10000):\n",
    "    state = env.reset()[0]\n",
    "    done = False\n",
    "    while not done:\n",
    "        if printing:\n",
    "            print(env.render())\n",
    "            print('---------\\n')\n",
    "        action = optimal_policy[state]\n",
    "        next_state, reward, done, info, _ = env.step(int(action))\n",
    "        state = next_state\n",
    "        total_rewards += reward\n",
    "    if printing:\n",
    "        print(env.render())\n",
    "    "
   ]
  },
  {
   "cell_type": "code",
   "execution_count": 355,
   "id": "4d0fe271-6b3a-4e70-8fad-a52f60de96ca",
   "metadata": {},
   "outputs": [
    {
     "data": {
      "text/plain": [
       "174.0"
      ]
     },
     "execution_count": 355,
     "metadata": {},
     "output_type": "execute_result"
    }
   ],
   "source": [
    "total_rewards"
   ]
  },
  {
   "cell_type": "code",
   "execution_count": 356,
   "id": "144dd7cb-1622-4938-9249-fb3f56d955d6",
   "metadata": {},
   "outputs": [
    {
     "name": "stdout",
     "output_type": "stream",
     "text": [
      "\n",
      "HHHHHH\n",
      "H\u001b[41mS\u001b[0mFFFH\n",
      "HFHFHH\n",
      "HFFFHH\n",
      "HHFFGH\n",
      "HHHHHH\n",
      "\n",
      "---------\n",
      "\n",
      "  (Down)\n",
      "HHHHHH\n",
      "\u001b[41mH\u001b[0mSFFFH\n",
      "HFHFHH\n",
      "HFFFHH\n",
      "HHFFGH\n",
      "HHHHHH\n",
      "\n"
     ]
    }
   ],
   "source": [
    "state = env.reset()[0]\n",
    "done = False\n",
    "while not done:\n",
    "    print(env.render())\n",
    "    print('---------\\n')\n",
    "    action = optimal_policy[state]\n",
    "    next_state, reward, done, info, _ = env.step(int(action))\n",
    "    state = next_state\n",
    "    total_rewards += reward\n",
    "    print(env.render())"
   ]
  },
  {
   "cell_type": "markdown",
   "id": "ef74cc5f-727e-45b5-bd11-f4ecdb9072b3",
   "metadata": {},
   "source": [
    "## Testing Gamma Values and Measuring Total Reward of Resulting Polcies"
   ]
  },
  {
   "cell_type": "code",
   "execution_count": 361,
   "id": "4ce9f04c-6ed3-42e0-8c5e-603efd67c4b7",
   "metadata": {},
   "outputs": [],
   "source": [
    "test_results = {}\n",
    "for g in range(0, 101, 5):\n",
    "    gam = g/100\n",
    "    optimal_value_function, q_function = value_iteration(env=env, gamma=gam)\n",
    "    optimal_policy = extract_policy(optimal_value_function, gamma=gam)\n",
    "    printing = False\n",
    "    total_rewards = 0\n",
    "    for episode in range(10000):\n",
    "        state = env.reset()[0]\n",
    "        done = False\n",
    "        for limit in range(101):\n",
    "            if printing:\n",
    "                print(env.render())\n",
    "                print('---------\\n')\n",
    "            action = optimal_policy[state]\n",
    "            next_state, reward, done, info, _ = env.step(int(action))\n",
    "            state = next_state\n",
    "            total_rewards += reward\n",
    "        if printing:\n",
    "            print(env.render())\n",
    "    test_results[gam] = total_rewards"
   ]
  },
  {
   "cell_type": "code",
   "execution_count": 362,
   "id": "6706d9c6-6016-4fea-8517-32d40c635a5c",
   "metadata": {},
   "outputs": [
    {
     "name": "stdout",
     "output_type": "stream",
     "text": [
      "  (Left)\n",
      "HHHHHH\n",
      "HSFFFH\n",
      "HFHFHH\n",
      "HFFFHH\n",
      "HHFF\u001b[41mG\u001b[0mH\n",
      "HHHHHH\n",
      "\n"
     ]
    }
   ],
   "source": [
    "print(env.render())"
   ]
  },
  {
   "cell_type": "code",
   "execution_count": 363,
   "id": "84142f82-5d07-4f5f-a191-1eee7d84cd25",
   "metadata": {},
   "outputs": [
    {
     "data": {
      "image/png": "[encoded data removed]",
      "text/plain": [
       "<Figure size 640x480 with 1 Axes>"
      ]
     },
     "metadata": {},
     "output_type": "display_data"
    }
   ],
   "source": [
    "x_values = list(test_results.keys())\n",
    "y_values = list(test_results.values())\n",
    "plt.scatter(x_values, list(map(lambda x: x / 1000, y_values))  , color='green', marker='o')\n",
    "plt.xlabel('Gamma Values')\n",
    "plt.ylabel('Goal Achieved %')\n",
    "plt.title('Optimal Policy Performance over 1000 Episodes')\n",
    "plt.grid(True)"
   ]
  },
  {
   "cell_type": "code",
   "execution_count": null,
   "id": "9b6af4fa-17b2-47aa-9d85-c3e4ef99e7ad",
   "metadata": {
    "scrolled": true
   },
   "outputs": [],
   "source": [
    "for g in range(0, 11, 1):\n",
    "    gam = g/10\n",
    "    \n",
    "    optimal_value_function, q_function = value_iteration(env=env, gamma=gam)\n",
    "    optimal_policy = extract_policy(optimal_value_function, gamma=gam)\n",
    "    print(gam, '\\n', np.reshape(optimal_policy, (4,4)))"
   ]
  },
  {
   "cell_type": "code",
   "execution_count": null,
   "id": "ccd7ab0b-20ab-42be-821f-806c241714a6",
   "metadata": {},
   "outputs": [],
   "source": []
  }
 ],
 "metadata": {
  "kernelspec": {
   "display_name": "Python 3 (ipykernel)",
   "language": "python",
   "name": "python3"
  },
  "language_info": {
   "codemirror_mode": {
    "name": "ipython",
    "version": 3
   },
   "file_extension": ".py",
   "mimetype": "text/x-python",
   "name": "python",
   "nbconvert_exporter": "python",
   "pygments_lexer": "ipython3",
   "version": "3.8.20"
  }
 },
 "nbformat": 4,
 "nbformat_minor": 5
}
